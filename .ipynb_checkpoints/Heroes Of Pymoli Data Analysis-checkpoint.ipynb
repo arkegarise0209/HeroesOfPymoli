{
 "cells": [
  {
   "cell_type": "markdown",
   "metadata": {},
   "source": [
    "# Heroes Of Pymoli Analysis\n",
    "\n",
    "-  Although the total number of players is 573, the total number of purchases is 780. This shows that many players are repeat customers.\n",
    "-  Of those 573 players, 81.15% of them are Male users. This shows that Heroes of Pymoli predominantly caters to the interests of Males.\n",
    "-  Also, 45.20% of the game's users fall between the ages of 20-24. A good target market would probably be Males between the ages of 20-24.\n",
    "-  Although Retribution Axe\twas the most expensive item at $4.14, it still was one of the top 5 most popular items purchased. This shows that an item that enhances a player's experience will be purchased regardless of it's price comparison to other items."
   ]
  },
  {
   "cell_type": "code",
   "execution_count": 1,
   "metadata": {},
   "outputs": [],
   "source": [
    "#Dependencies\n",
    "import pandas as pd"
   ]
  },
  {
   "cell_type": "code",
   "execution_count": 2,
   "metadata": {},
   "outputs": [
    {
     "data": {
      "text/html": [
       "<div>\n",
       "<style scoped>\n",
       "    .dataframe tbody tr th:only-of-type {\n",
       "        vertical-align: middle;\n",
       "    }\n",
       "\n",
       "    .dataframe tbody tr th {\n",
       "        vertical-align: top;\n",
       "    }\n",
       "\n",
       "    .dataframe thead th {\n",
       "        text-align: right;\n",
       "    }\n",
       "</style>\n",
       "<table border=\"1\" class=\"dataframe\">\n",
       "  <thead>\n",
       "    <tr style=\"text-align: right;\">\n",
       "      <th></th>\n",
       "      <th>Age</th>\n",
       "      <th>Gender</th>\n",
       "      <th>Item ID</th>\n",
       "      <th>Item Name</th>\n",
       "      <th>Price</th>\n",
       "      <th>SN</th>\n",
       "    </tr>\n",
       "  </thead>\n",
       "  <tbody>\n",
       "    <tr>\n",
       "      <th>0</th>\n",
       "      <td>38</td>\n",
       "      <td>Male</td>\n",
       "      <td>165</td>\n",
       "      <td>Bone Crushing Silver Skewer</td>\n",
       "      <td>3.37</td>\n",
       "      <td>Aelalis34</td>\n",
       "    </tr>\n",
       "    <tr>\n",
       "      <th>1</th>\n",
       "      <td>21</td>\n",
       "      <td>Male</td>\n",
       "      <td>119</td>\n",
       "      <td>Stormbringer, Dark Blade of Ending Misery</td>\n",
       "      <td>2.32</td>\n",
       "      <td>Eolo46</td>\n",
       "    </tr>\n",
       "    <tr>\n",
       "      <th>2</th>\n",
       "      <td>34</td>\n",
       "      <td>Male</td>\n",
       "      <td>174</td>\n",
       "      <td>Primitive Blade</td>\n",
       "      <td>2.46</td>\n",
       "      <td>Assastnya25</td>\n",
       "    </tr>\n",
       "    <tr>\n",
       "      <th>3</th>\n",
       "      <td>21</td>\n",
       "      <td>Male</td>\n",
       "      <td>92</td>\n",
       "      <td>Final Critic</td>\n",
       "      <td>1.36</td>\n",
       "      <td>Pheusrical25</td>\n",
       "    </tr>\n",
       "    <tr>\n",
       "      <th>4</th>\n",
       "      <td>23</td>\n",
       "      <td>Male</td>\n",
       "      <td>63</td>\n",
       "      <td>Stormfury Mace</td>\n",
       "      <td>1.27</td>\n",
       "      <td>Aela59</td>\n",
       "    </tr>\n",
       "  </tbody>\n",
       "</table>\n",
       "</div>"
      ],
      "text/plain": [
       "   Age Gender  Item ID                                  Item Name  Price  \\\n",
       "0   38   Male      165                Bone Crushing Silver Skewer   3.37   \n",
       "1   21   Male      119  Stormbringer, Dark Blade of Ending Misery   2.32   \n",
       "2   34   Male      174                            Primitive Blade   2.46   \n",
       "3   21   Male       92                               Final Critic   1.36   \n",
       "4   23   Male       63                             Stormfury Mace   1.27   \n",
       "\n",
       "             SN  \n",
       "0     Aelalis34  \n",
       "1        Eolo46  \n",
       "2   Assastnya25  \n",
       "3  Pheusrical25  \n",
       "4        Aela59  "
      ]
     },
     "execution_count": 2,
     "metadata": {},
     "output_type": "execute_result"
    }
   ],
   "source": [
    "#File path\n",
    "file = \"Resources/purchase_data.json\"\n",
    "#File read\n",
    "purchase_data= pd.read_json(file)\n",
    "#View file data\n",
    "purchase_data.head()"
   ]
  },
  {
   "cell_type": "markdown",
   "metadata": {},
   "source": [
    "### Player Count"
   ]
  },
  {
   "cell_type": "code",
   "execution_count": 3,
   "metadata": {},
   "outputs": [
    {
     "data": {
      "text/html": [
       "<div>\n",
       "<style scoped>\n",
       "    .dataframe tbody tr th:only-of-type {\n",
       "        vertical-align: middle;\n",
       "    }\n",
       "\n",
       "    .dataframe tbody tr th {\n",
       "        vertical-align: top;\n",
       "    }\n",
       "\n",
       "    .dataframe thead th {\n",
       "        text-align: right;\n",
       "    }\n",
       "</style>\n",
       "<table border=\"1\" class=\"dataframe\">\n",
       "  <thead>\n",
       "    <tr style=\"text-align: right;\">\n",
       "      <th></th>\n",
       "    </tr>\n",
       "    <tr>\n",
       "      <th>Total Players</th>\n",
       "    </tr>\n",
       "  </thead>\n",
       "  <tbody>\n",
       "    <tr>\n",
       "      <th>573</th>\n",
       "    </tr>\n",
       "  </tbody>\n",
       "</table>\n",
       "</div>"
      ],
      "text/plain": [
       "Empty DataFrame\n",
       "Columns: []\n",
       "Index: [573]"
      ]
     },
     "execution_count": 3,
     "metadata": {},
     "output_type": "execute_result"
    }
   ],
   "source": [
    "#Calculate amount of players\n",
    "player_count = len(purchase_data[\"SN\"].unique())\n",
    "#Create DataFrame \n",
    "player_count_df = pd.DataFrame([{\"Total Players\": player_count}])\n",
    "#Reset index to \"Total Players\" instead of numbers OPTIONAL\n",
    "player_count_df.set_index(\"Total Players\", inplace=True)\n",
    "player_count_df"
   ]
  },
  {
   "cell_type": "markdown",
   "metadata": {},
   "source": [
    "### Purchasing Analysis (Total)"
   ]
  },
  {
   "cell_type": "code",
   "execution_count": 4,
   "metadata": {},
   "outputs": [
    {
     "data": {
      "text/html": [
       "<style  type=\"text/css\" >\n",
       "</style>  \n",
       "<table id=\"T_7dbdebb6_28b5_11e8_8f60_80ce62114cc3\" > \n",
       "<thead>    <tr> \n",
       "        <th class=\"blank level0\" ></th> \n",
       "        <th class=\"col_heading level0 col0\" >Number of Unique Items</th> \n",
       "        <th class=\"col_heading level0 col1\" >Average Price</th> \n",
       "        <th class=\"col_heading level0 col2\" >Number of Purchases</th> \n",
       "        <th class=\"col_heading level0 col3\" >Total Revenue</th> \n",
       "    </tr></thead> \n",
       "<tbody>    <tr> \n",
       "        <th id=\"T_7dbdebb6_28b5_11e8_8f60_80ce62114cc3level0_row0\" class=\"row_heading level0 row0\" >0</th> \n",
       "        <td id=\"T_7dbdebb6_28b5_11e8_8f60_80ce62114cc3row0_col0\" class=\"data row0 col0\" >183</td> \n",
       "        <td id=\"T_7dbdebb6_28b5_11e8_8f60_80ce62114cc3row0_col1\" class=\"data row0 col1\" >$2.93</td> \n",
       "        <td id=\"T_7dbdebb6_28b5_11e8_8f60_80ce62114cc3row0_col2\" class=\"data row0 col2\" >780</td> \n",
       "        <td id=\"T_7dbdebb6_28b5_11e8_8f60_80ce62114cc3row0_col3\" class=\"data row0 col3\" >$2,286.33</td> \n",
       "    </tr></tbody> \n",
       "</table> "
      ],
      "text/plain": [
       "<pandas.io.formats.style.Styler at 0x26c96ee9a58>"
      ]
     },
     "execution_count": 4,
     "metadata": {},
     "output_type": "execute_result"
    }
   ],
   "source": [
    "#Calculate number of unique items\n",
    "items = len(purchase_data[\"Item ID\"].unique())\n",
    "#Calculate total number of purchases\n",
    "total_purchases = purchase_data[\"Price\"].count()\n",
    "#Calculate total revenue\n",
    "total_revenue = purchase_data[\"Price\"].sum()\n",
    "#Calculate average purchase price per item\n",
    "average_item_price = total_revenue/total_purchases\n",
    "\n",
    "#Create Purchase Analysis DataFrame\n",
    "purchase_analysis_df = pd.DataFrame({\"Number of Unique Items\": [items],\n",
    "                                    \"Average Price\": [average_item_price],\n",
    "                                    \"Number of Purchases\": [total_purchases],\n",
    "                                    \"Total Revenue\": [total_revenue]}, columns=[\"Number of Unique Items\",\"Average Price\",\"Number of Purchases\",\"Total Revenue\"])\n",
    "\n",
    "#Format Purchase Analysis DataFrame\n",
    "purchase_analysis_df.style.format({\"Average Price\": \"${:.2f}\",\"Total Revenue\": \"${:,.2f}\"})"
   ]
  },
  {
   "cell_type": "markdown",
   "metadata": {},
   "source": [
    "### Gender Demographics"
   ]
  },
  {
   "cell_type": "code",
   "execution_count": 5,
   "metadata": {},
   "outputs": [
    {
     "data": {
      "text/html": [
       "<style  type=\"text/css\" >\n",
       "</style>  \n",
       "<table id=\"T_7dc6597e_28b5_11e8_a55e_80ce62114cc3\" > \n",
       "<thead>    <tr> \n",
       "        <th class=\"blank level0\" ></th> \n",
       "        <th class=\"col_heading level0 col0\" >Total Count</th> \n",
       "        <th class=\"col_heading level0 col1\" >Percentage of Players</th> \n",
       "    </tr>    <tr> \n",
       "        <th class=\"index_name level0\" ></th> \n",
       "        <th class=\"blank\" ></th> \n",
       "        <th class=\"blank\" ></th> \n",
       "    </tr></thead> \n",
       "<tbody>    <tr> \n",
       "        <th id=\"T_7dc6597e_28b5_11e8_a55e_80ce62114cc3level0_row0\" class=\"row_heading level0 row0\" >Male</th> \n",
       "        <td id=\"T_7dc6597e_28b5_11e8_a55e_80ce62114cc3row0_col0\" class=\"data row0 col0\" >465</td> \n",
       "        <td id=\"T_7dc6597e_28b5_11e8_a55e_80ce62114cc3row0_col1\" class=\"data row0 col1\" >81.15%</td> \n",
       "    </tr>    <tr> \n",
       "        <th id=\"T_7dc6597e_28b5_11e8_a55e_80ce62114cc3level0_row1\" class=\"row_heading level0 row1\" >Female</th> \n",
       "        <td id=\"T_7dc6597e_28b5_11e8_a55e_80ce62114cc3row1_col0\" class=\"data row1 col0\" >100</td> \n",
       "        <td id=\"T_7dc6597e_28b5_11e8_a55e_80ce62114cc3row1_col1\" class=\"data row1 col1\" >17.45%</td> \n",
       "    </tr>    <tr> \n",
       "        <th id=\"T_7dc6597e_28b5_11e8_a55e_80ce62114cc3level0_row2\" class=\"row_heading level0 row2\" >Other / Non-Disclosed</th> \n",
       "        <td id=\"T_7dc6597e_28b5_11e8_a55e_80ce62114cc3row2_col0\" class=\"data row2 col0\" >8</td> \n",
       "        <td id=\"T_7dc6597e_28b5_11e8_a55e_80ce62114cc3row2_col1\" class=\"data row2 col1\" >1.40%</td> \n",
       "    </tr></tbody> \n",
       "</table> "
      ],
      "text/plain": [
       "<pandas.io.formats.style.Styler at 0x26c975bab00>"
      ]
     },
     "execution_count": 5,
     "metadata": {},
     "output_type": "execute_result"
    }
   ],
   "source": [
    "#Clean player count\n",
    "no_dubs = purchase_data.drop_duplicates([\"SN\"], keep=\"last\") \n",
    "#Calculate number of players for each possible gender value\n",
    "gender_counts= no_dubs[\"Gender\"].value_counts().reset_index()\n",
    "#Calculate percent of players from each gender value\n",
    "gender_counts[\"Percentage of Players\"] = gender_counts[\"Gender\"]/player_count * 100\n",
    "#Rename columns\n",
    "gender_counts.rename(columns={\"index\":\"\",\"Gender\":\"Total Count\"}, inplace=True)\n",
    "#Set index as gender\n",
    "gender_counts.set_index([\"\"], inplace=True)\n",
    "#Format Gender Demographics DataFrame\n",
    "gender_counts.style.format({\"Percentage of Players\":\"{:.2f}%\"})"
   ]
  },
  {
   "cell_type": "markdown",
   "metadata": {},
   "source": [
    "### Purchasing Analysis (Gender)"
   ]
  },
  {
   "cell_type": "code",
   "execution_count": 6,
   "metadata": {
    "scrolled": true
   },
   "outputs": [
    {
     "data": {
      "text/html": [
       "<style  type=\"text/css\" >\n",
       "</style>  \n",
       "<table id=\"T_7dd958da_28b5_11e8_9770_80ce62114cc3\" > \n",
       "<thead>    <tr> \n",
       "        <th class=\"blank level0\" ></th> \n",
       "        <th class=\"col_heading level0 col0\" >Purchase Count</th> \n",
       "        <th class=\"col_heading level0 col1\" >Total Purchase Value</th> \n",
       "        <th class=\"col_heading level0 col2\" >Average Purchase Price</th> \n",
       "        <th class=\"col_heading level0 col3\" >Normalized Totals</th> \n",
       "    </tr></thead> \n",
       "<tbody>    <tr> \n",
       "        <th id=\"T_7dd958da_28b5_11e8_9770_80ce62114cc3level0_row0\" class=\"row_heading level0 row0\" >Female</th> \n",
       "        <td id=\"T_7dd958da_28b5_11e8_9770_80ce62114cc3row0_col0\" class=\"data row0 col0\" >136</td> \n",
       "        <td id=\"T_7dd958da_28b5_11e8_9770_80ce62114cc3row0_col1\" class=\"data row0 col1\" >$382.91</td> \n",
       "        <td id=\"T_7dd958da_28b5_11e8_9770_80ce62114cc3row0_col2\" class=\"data row0 col2\" >$2.82</td> \n",
       "        <td id=\"T_7dd958da_28b5_11e8_9770_80ce62114cc3row0_col3\" class=\"data row0 col3\" >$3.83</td> \n",
       "    </tr>    <tr> \n",
       "        <th id=\"T_7dd958da_28b5_11e8_9770_80ce62114cc3level0_row1\" class=\"row_heading level0 row1\" >Male</th> \n",
       "        <td id=\"T_7dd958da_28b5_11e8_9770_80ce62114cc3row1_col0\" class=\"data row1 col0\" >633</td> \n",
       "        <td id=\"T_7dd958da_28b5_11e8_9770_80ce62114cc3row1_col1\" class=\"data row1 col1\" >$1,867.68</td> \n",
       "        <td id=\"T_7dd958da_28b5_11e8_9770_80ce62114cc3row1_col2\" class=\"data row1 col2\" >$2.95</td> \n",
       "        <td id=\"T_7dd958da_28b5_11e8_9770_80ce62114cc3row1_col3\" class=\"data row1 col3\" >$4.02</td> \n",
       "    </tr>    <tr> \n",
       "        <th id=\"T_7dd958da_28b5_11e8_9770_80ce62114cc3level0_row2\" class=\"row_heading level0 row2\" >Other / Non-Disclosed</th> \n",
       "        <td id=\"T_7dd958da_28b5_11e8_9770_80ce62114cc3row2_col0\" class=\"data row2 col0\" >11</td> \n",
       "        <td id=\"T_7dd958da_28b5_11e8_9770_80ce62114cc3row2_col1\" class=\"data row2 col1\" >$35.74</td> \n",
       "        <td id=\"T_7dd958da_28b5_11e8_9770_80ce62114cc3row2_col2\" class=\"data row2 col2\" >$3.25</td> \n",
       "        <td id=\"T_7dd958da_28b5_11e8_9770_80ce62114cc3row2_col3\" class=\"data row2 col3\" >$4.47</td> \n",
       "    </tr></tbody> \n",
       "</table> "
      ],
      "text/plain": [
       "<pandas.io.formats.style.Styler at 0x26c978882e8>"
      ]
     },
     "execution_count": 6,
     "metadata": {},
     "output_type": "execute_result"
    }
   ],
   "source": [
    "#Create DataFrame that counts number of purchases per gender\n",
    "gender_purchase_count_df = pd.DataFrame(purchase_data.groupby(\"Gender\")[\"Gender\"].count())\n",
    "#Create DataFrame that calculates \"Total Purchase Value\" per gender\n",
    "gender_total_purchase_values_df = pd.DataFrame(purchase_data.groupby(\"Gender\")[\"Price\"].sum())\n",
    "#Merge above DataFrames \n",
    "gender_purchase_analysis_df = pd.merge(gender_purchase_count_df,gender_total_purchase_values_df,left_index=True,right_index=True)\n",
    "#Rename columns\n",
    "gender_purchase_analysis_df.rename(columns={\"Gender\":\"Purchase Count\",\"Price\":\"Total Purchase Value\"}, inplace=True)\n",
    "#Calculate \"Average Purchase Price\"\n",
    "gender_purchase_analysis_df[\"Average Purchase Price\"] = gender_purchase_analysis_df[\"Total Purchase Value\"]/gender_purchase_analysis_df[\"Purchase Count\"]\n",
    "#Merge above DataFrame with Gender Demographics DataFrame \n",
    "gender_purchase_analysis_df = gender_purchase_analysis_df.merge(gender_counts, left_index=True,right_index=True)\n",
    "#Calculate \"Normalized Totals\"\n",
    "gender_purchase_analysis_df[\"Normalized Totals\"] = gender_purchase_analysis_df[\"Total Purchase Value\"]/gender_purchase_analysis_df[\"Total Count\"]\n",
    "#Delete unwanted columns\n",
    "del gender_purchase_analysis_df[\"Total Count\"]\n",
    "del gender_purchase_analysis_df[\"Percentage of Players\"]\n",
    "#Format Purchasing Analysis DataFrame (Gender) \n",
    "gender_purchase_analysis_df.style.format({\"Total Purchase Value\":\"${:,.2f}\",\"Average Purchase Price\":\"${:.2f}\",\"Normalized Totals\":\"${:.2f}\"})"
   ]
  },
  {
   "cell_type": "markdown",
   "metadata": {},
   "source": [
    "### Age Demographics"
   ]
  },
  {
   "cell_type": "code",
   "execution_count": 7,
   "metadata": {
    "scrolled": false
   },
   "outputs": [
    {
     "data": {
      "text/html": [
       "<style  type=\"text/css\" >\n",
       "</style>  \n",
       "<table id=\"T_7df0092e_28b5_11e8_808a_80ce62114cc3\" > \n",
       "<thead>    <tr> \n",
       "        <th class=\"blank level0\" ></th> \n",
       "        <th class=\"col_heading level0 col0\" >Total Count</th> \n",
       "        <th class=\"col_heading level0 col1\" >Percentage of Players</th> \n",
       "    </tr>    <tr> \n",
       "        <th class=\"index_name level0\" > </th> \n",
       "        <th class=\"blank\" ></th> \n",
       "        <th class=\"blank\" ></th> \n",
       "    </tr></thead> \n",
       "<tbody>    <tr> \n",
       "        <th id=\"T_7df0092e_28b5_11e8_808a_80ce62114cc3level0_row0\" class=\"row_heading level0 row0\" >10 - 14</th> \n",
       "        <td id=\"T_7df0092e_28b5_11e8_808a_80ce62114cc3row0_col0\" class=\"data row0 col0\" >23</td> \n",
       "        <td id=\"T_7df0092e_28b5_11e8_808a_80ce62114cc3row0_col1\" class=\"data row0 col1\" >4.01%</td> \n",
       "    </tr>    <tr> \n",
       "        <th id=\"T_7df0092e_28b5_11e8_808a_80ce62114cc3level0_row1\" class=\"row_heading level0 row1\" >15 - 19</th> \n",
       "        <td id=\"T_7df0092e_28b5_11e8_808a_80ce62114cc3row1_col0\" class=\"data row1 col0\" >100</td> \n",
       "        <td id=\"T_7df0092e_28b5_11e8_808a_80ce62114cc3row1_col1\" class=\"data row1 col1\" >17.45%</td> \n",
       "    </tr>    <tr> \n",
       "        <th id=\"T_7df0092e_28b5_11e8_808a_80ce62114cc3level0_row2\" class=\"row_heading level0 row2\" >20 - 24</th> \n",
       "        <td id=\"T_7df0092e_28b5_11e8_808a_80ce62114cc3row2_col0\" class=\"data row2 col0\" >259</td> \n",
       "        <td id=\"T_7df0092e_28b5_11e8_808a_80ce62114cc3row2_col1\" class=\"data row2 col1\" >45.20%</td> \n",
       "    </tr>    <tr> \n",
       "        <th id=\"T_7df0092e_28b5_11e8_808a_80ce62114cc3level0_row3\" class=\"row_heading level0 row3\" >25 - 29</th> \n",
       "        <td id=\"T_7df0092e_28b5_11e8_808a_80ce62114cc3row3_col0\" class=\"data row3 col0\" >87</td> \n",
       "        <td id=\"T_7df0092e_28b5_11e8_808a_80ce62114cc3row3_col1\" class=\"data row3 col1\" >15.18%</td> \n",
       "    </tr>    <tr> \n",
       "        <th id=\"T_7df0092e_28b5_11e8_808a_80ce62114cc3level0_row4\" class=\"row_heading level0 row4\" >30 - 34</th> \n",
       "        <td id=\"T_7df0092e_28b5_11e8_808a_80ce62114cc3row4_col0\" class=\"data row4 col0\" >47</td> \n",
       "        <td id=\"T_7df0092e_28b5_11e8_808a_80ce62114cc3row4_col1\" class=\"data row4 col1\" >8.20%</td> \n",
       "    </tr>    <tr> \n",
       "        <th id=\"T_7df0092e_28b5_11e8_808a_80ce62114cc3level0_row5\" class=\"row_heading level0 row5\" >35 - 39</th> \n",
       "        <td id=\"T_7df0092e_28b5_11e8_808a_80ce62114cc3row5_col0\" class=\"data row5 col0\" >27</td> \n",
       "        <td id=\"T_7df0092e_28b5_11e8_808a_80ce62114cc3row5_col1\" class=\"data row5 col1\" >4.71%</td> \n",
       "    </tr>    <tr> \n",
       "        <th id=\"T_7df0092e_28b5_11e8_808a_80ce62114cc3level0_row6\" class=\"row_heading level0 row6\" >40+</th> \n",
       "        <td id=\"T_7df0092e_28b5_11e8_808a_80ce62114cc3row6_col0\" class=\"data row6 col0\" >11</td> \n",
       "        <td id=\"T_7df0092e_28b5_11e8_808a_80ce62114cc3row6_col1\" class=\"data row6 col1\" >1.92%</td> \n",
       "    </tr>    <tr> \n",
       "        <th id=\"T_7df0092e_28b5_11e8_808a_80ce62114cc3level0_row7\" class=\"row_heading level0 row7\" ><10</th> \n",
       "        <td id=\"T_7df0092e_28b5_11e8_808a_80ce62114cc3row7_col0\" class=\"data row7 col0\" >19</td> \n",
       "        <td id=\"T_7df0092e_28b5_11e8_808a_80ce62114cc3row7_col1\" class=\"data row7 col1\" >3.32%</td> \n",
       "    </tr></tbody> \n",
       "</table> "
      ],
      "text/plain": [
       "<pandas.io.formats.style.Styler at 0x26c96ee7588>"
      ]
     },
     "execution_count": 7,
     "metadata": {},
     "output_type": "execute_result"
    }
   ],
   "source": [
    "#Create a column \"age_range\" based on conditional of age range\n",
    "purchase_data.loc[(purchase_data[\"Age\"] < 10), \"age_range\"] = \"<10\"\n",
    "purchase_data.loc[(purchase_data[\"Age\"] >= 10) & (purchase_data[\"Age\"] <= 14), \"age_range\"] = \"10 - 14\"\n",
    "purchase_data.loc[(purchase_data[\"Age\"] >= 15) & (purchase_data[\"Age\"] <= 19), \"age_range\"] = \"15 - 19\"\n",
    "purchase_data.loc[(purchase_data[\"Age\"] >= 20) & (purchase_data[\"Age\"] <= 24), \"age_range\"] = \"20 - 24\"\n",
    "purchase_data.loc[(purchase_data[\"Age\"] >= 25) & (purchase_data[\"Age\"] <= 29), \"age_range\"] = \"25 - 29\"\n",
    "purchase_data.loc[(purchase_data[\"Age\"] >= 30) & (purchase_data[\"Age\"] <= 34), \"age_range\"] = \"30 - 34\"\n",
    "purchase_data.loc[(purchase_data[\"Age\"] >= 35) & (purchase_data[\"Age\"] <= 39), \"age_range\"] = \"35 - 39\"\n",
    "purchase_data.loc[(purchase_data[\"Age\"] >= 40), \"age_range\"] = \"40+\"\n",
    "\n",
    "#Clean player count\n",
    "no_dubs_age = purchase_data.drop_duplicates([\"SN\"], keep=\"last\") \n",
    "#Calculate number of players for each possible age_range\n",
    "age_counts= no_dubs_age[\"age_range\"].value_counts()\n",
    "#Reset index\n",
    "age_counts=age_counts.reset_index()\n",
    "#Sort index\n",
    "age_counts= age_counts.sort_values(\"index\")\n",
    "#Calculate percent of players from each age_range\n",
    "age_counts[\"Percentage of Players\"] = age_counts[\"age_range\"]/player_count\n",
    "#Rename Columns\n",
    "age_counts.rename(columns={\"index\":\" \",\"age_range\":\"Total Count\"}, inplace=True)\n",
    "#Set index\n",
    "age_counts=age_counts.set_index(\" \")\n",
    "#Format Age Demographics DataFrame\n",
    "age_counts.style.format({\"Percentage of Players\":\"{:.2%}\"})"
   ]
  },
  {
   "cell_type": "markdown",
   "metadata": {},
   "source": [
    "### Purchasing Analysis (Age)"
   ]
  },
  {
   "cell_type": "code",
   "execution_count": 8,
   "metadata": {},
   "outputs": [
    {
     "data": {
      "text/html": [
       "<style  type=\"text/css\" >\n",
       "</style>  \n",
       "<table id=\"T_7e06dd06_28b5_11e8_a994_80ce62114cc3\" > \n",
       "<thead>    <tr> \n",
       "        <th class=\"blank level0\" ></th> \n",
       "        <th class=\"col_heading level0 col0\" >Purchase Count</th> \n",
       "        <th class=\"col_heading level0 col1\" >Average Purchase Price</th> \n",
       "        <th class=\"col_heading level0 col2\" >Total Purchase Value</th> \n",
       "        <th class=\"col_heading level0 col3\" >Normalized Totals</th> \n",
       "    </tr>    <tr> \n",
       "        <th class=\"index_name level0\" >age_range</th> \n",
       "        <th class=\"blank\" ></th> \n",
       "        <th class=\"blank\" ></th> \n",
       "        <th class=\"blank\" ></th> \n",
       "        <th class=\"blank\" ></th> \n",
       "    </tr></thead> \n",
       "<tbody>    <tr> \n",
       "        <th id=\"T_7e06dd06_28b5_11e8_a994_80ce62114cc3level0_row0\" class=\"row_heading level0 row0\" >10 - 14</th> \n",
       "        <td id=\"T_7e06dd06_28b5_11e8_a994_80ce62114cc3row0_col0\" class=\"data row0 col0\" >35</td> \n",
       "        <td id=\"T_7e06dd06_28b5_11e8_a994_80ce62114cc3row0_col1\" class=\"data row0 col1\" >$2.77</td> \n",
       "        <td id=\"T_7e06dd06_28b5_11e8_a994_80ce62114cc3row0_col2\" class=\"data row0 col2\" >$96.95</td> \n",
       "        <td id=\"T_7e06dd06_28b5_11e8_a994_80ce62114cc3row0_col3\" class=\"data row0 col3\" >$4.22</td> \n",
       "    </tr>    <tr> \n",
       "        <th id=\"T_7e06dd06_28b5_11e8_a994_80ce62114cc3level0_row1\" class=\"row_heading level0 row1\" >15 - 19</th> \n",
       "        <td id=\"T_7e06dd06_28b5_11e8_a994_80ce62114cc3row1_col0\" class=\"data row1 col0\" >133</td> \n",
       "        <td id=\"T_7e06dd06_28b5_11e8_a994_80ce62114cc3row1_col1\" class=\"data row1 col1\" >$2.91</td> \n",
       "        <td id=\"T_7e06dd06_28b5_11e8_a994_80ce62114cc3row1_col2\" class=\"data row1 col2\" >$386.42</td> \n",
       "        <td id=\"T_7e06dd06_28b5_11e8_a994_80ce62114cc3row1_col3\" class=\"data row1 col3\" >$3.86</td> \n",
       "    </tr>    <tr> \n",
       "        <th id=\"T_7e06dd06_28b5_11e8_a994_80ce62114cc3level0_row2\" class=\"row_heading level0 row2\" >20 - 24</th> \n",
       "        <td id=\"T_7e06dd06_28b5_11e8_a994_80ce62114cc3row2_col0\" class=\"data row2 col0\" >336</td> \n",
       "        <td id=\"T_7e06dd06_28b5_11e8_a994_80ce62114cc3row2_col1\" class=\"data row2 col1\" >$2.91</td> \n",
       "        <td id=\"T_7e06dd06_28b5_11e8_a994_80ce62114cc3row2_col2\" class=\"data row2 col2\" >$978.77</td> \n",
       "        <td id=\"T_7e06dd06_28b5_11e8_a994_80ce62114cc3row2_col3\" class=\"data row2 col3\" >$3.78</td> \n",
       "    </tr>    <tr> \n",
       "        <th id=\"T_7e06dd06_28b5_11e8_a994_80ce62114cc3level0_row3\" class=\"row_heading level0 row3\" >25 - 29</th> \n",
       "        <td id=\"T_7e06dd06_28b5_11e8_a994_80ce62114cc3row3_col0\" class=\"data row3 col0\" >125</td> \n",
       "        <td id=\"T_7e06dd06_28b5_11e8_a994_80ce62114cc3row3_col1\" class=\"data row3 col1\" >$2.96</td> \n",
       "        <td id=\"T_7e06dd06_28b5_11e8_a994_80ce62114cc3row3_col2\" class=\"data row3 col2\" >$370.33</td> \n",
       "        <td id=\"T_7e06dd06_28b5_11e8_a994_80ce62114cc3row3_col3\" class=\"data row3 col3\" >$4.26</td> \n",
       "    </tr>    <tr> \n",
       "        <th id=\"T_7e06dd06_28b5_11e8_a994_80ce62114cc3level0_row4\" class=\"row_heading level0 row4\" >30 - 34</th> \n",
       "        <td id=\"T_7e06dd06_28b5_11e8_a994_80ce62114cc3row4_col0\" class=\"data row4 col0\" >64</td> \n",
       "        <td id=\"T_7e06dd06_28b5_11e8_a994_80ce62114cc3row4_col1\" class=\"data row4 col1\" >$3.08</td> \n",
       "        <td id=\"T_7e06dd06_28b5_11e8_a994_80ce62114cc3row4_col2\" class=\"data row4 col2\" >$197.25</td> \n",
       "        <td id=\"T_7e06dd06_28b5_11e8_a994_80ce62114cc3row4_col3\" class=\"data row4 col3\" >$4.20</td> \n",
       "    </tr>    <tr> \n",
       "        <th id=\"T_7e06dd06_28b5_11e8_a994_80ce62114cc3level0_row5\" class=\"row_heading level0 row5\" >35 - 39</th> \n",
       "        <td id=\"T_7e06dd06_28b5_11e8_a994_80ce62114cc3row5_col0\" class=\"data row5 col0\" >42</td> \n",
       "        <td id=\"T_7e06dd06_28b5_11e8_a994_80ce62114cc3row5_col1\" class=\"data row5 col1\" >$2.84</td> \n",
       "        <td id=\"T_7e06dd06_28b5_11e8_a994_80ce62114cc3row5_col2\" class=\"data row5 col2\" >$119.40</td> \n",
       "        <td id=\"T_7e06dd06_28b5_11e8_a994_80ce62114cc3row5_col3\" class=\"data row5 col3\" >$4.42</td> \n",
       "    </tr>    <tr> \n",
       "        <th id=\"T_7e06dd06_28b5_11e8_a994_80ce62114cc3level0_row6\" class=\"row_heading level0 row6\" >40+</th> \n",
       "        <td id=\"T_7e06dd06_28b5_11e8_a994_80ce62114cc3row6_col0\" class=\"data row6 col0\" >17</td> \n",
       "        <td id=\"T_7e06dd06_28b5_11e8_a994_80ce62114cc3row6_col1\" class=\"data row6 col1\" >$3.16</td> \n",
       "        <td id=\"T_7e06dd06_28b5_11e8_a994_80ce62114cc3row6_col2\" class=\"data row6 col2\" >$53.75</td> \n",
       "        <td id=\"T_7e06dd06_28b5_11e8_a994_80ce62114cc3row6_col3\" class=\"data row6 col3\" >$4.89</td> \n",
       "    </tr>    <tr> \n",
       "        <th id=\"T_7e06dd06_28b5_11e8_a994_80ce62114cc3level0_row7\" class=\"row_heading level0 row7\" ><10</th> \n",
       "        <td id=\"T_7e06dd06_28b5_11e8_a994_80ce62114cc3row7_col0\" class=\"data row7 col0\" >28</td> \n",
       "        <td id=\"T_7e06dd06_28b5_11e8_a994_80ce62114cc3row7_col1\" class=\"data row7 col1\" >$2.98</td> \n",
       "        <td id=\"T_7e06dd06_28b5_11e8_a994_80ce62114cc3row7_col2\" class=\"data row7 col2\" >$83.46</td> \n",
       "        <td id=\"T_7e06dd06_28b5_11e8_a994_80ce62114cc3row7_col3\" class=\"data row7 col3\" >$4.39</td> \n",
       "    </tr></tbody> \n",
       "</table> "
      ],
      "text/plain": [
       "<pandas.io.formats.style.Styler at 0x26c978cac50>"
      ]
     },
     "execution_count": 8,
     "metadata": {},
     "output_type": "execute_result"
    }
   ],
   "source": [
    "#Create a column \"age_range\" based on conditional of age range\n",
    "purchase_data.loc[(purchase_data[\"Age\"] < 10), \"age_range\"] = \"<10\"\n",
    "purchase_data.loc[(purchase_data[\"Age\"] >= 10) & (purchase_data[\"Age\"] <= 14), \"age_range\"] = \"10 - 14\"\n",
    "purchase_data.loc[(purchase_data[\"Age\"] >= 15) & (purchase_data[\"Age\"] <= 19), \"age_range\"] = \"15 - 19\"\n",
    "purchase_data.loc[(purchase_data[\"Age\"] >= 20) & (purchase_data[\"Age\"] <= 24), \"age_range\"] = \"20 - 24\"\n",
    "purchase_data.loc[(purchase_data[\"Age\"] >= 25) & (purchase_data[\"Age\"] <= 29), \"age_range\"] = \"25 - 29\"\n",
    "purchase_data.loc[(purchase_data[\"Age\"] >= 30) & (purchase_data[\"Age\"] <= 34), \"age_range\"] = \"30 - 34\"\n",
    "purchase_data.loc[(purchase_data[\"Age\"] >= 35) & (purchase_data[\"Age\"] <= 39), \"age_range\"] = \"35 - 39\"\n",
    "purchase_data.loc[(purchase_data[\"Age\"] >= 40), \"age_range\"] = \"40+\" \n",
    "\n",
    "\n",
    "#Calculate \"Purchase Count\"\n",
    "purch_count_age_df = pd.DataFrame(purchase_data.groupby(\"age_range\")[\"SN\"].count())\n",
    "#Calculate \"Average Purchase Price\"\n",
    "average_purch_price_age_df = pd.DataFrame(purchase_data.groupby(\"age_range\")[\"Price\"].mean()) \n",
    "#Merge above DataFrames\n",
    "age_demographics_df = pd.merge(purch_count_age_df, average_purch_price_age_df, left_index=True, right_index=True)\n",
    "#Rename columns\n",
    "age_demographics_df.rename(columns={\"SN\":\"Purchase Count\",\"Price\":\"Average Purchase Price\"}, inplace=True)\n",
    "#Calculate \"Total Purchase Value\"\n",
    "age_demographics_df[\"Total Purchase Value\"] = age_demographics_df[\"Average Purchase Price\"] * age_demographics_df[\"Purchase Count\"]\n",
    "#Merge current DataFrame with \"Age Demographics DataFrame\"\n",
    "age_demographics_df = pd.merge(age_demographics_df, age_counts, left_index=True, right_index=True)\n",
    "#Calculate \"Normalized Totals\"\n",
    "age_demographics_df[\"Normalized Totals\"] = age_demographics_df[\"Total Purchase Value\"]/age_demographics_df[\"Total Count\"]\n",
    "#Delete unwanted columns\n",
    "del age_demographics_df[\"Total Count\"]\n",
    "del age_demographics_df[\"Percentage of Players\"]\n",
    "#Format Purchasing Analysis DataFrame (Age)\n",
    "age_demographics_df.style.format({\"Total Purchase Value\":\"${:,.2f}\",\"Average Purchase Price\":\"${:.2f}\",\"Normalized Totals\":\"${:.2f}\"})"
   ]
  },
  {
   "cell_type": "markdown",
   "metadata": {},
   "source": [
    "### Top Spenders"
   ]
  },
  {
   "cell_type": "code",
   "execution_count": 9,
   "metadata": {},
   "outputs": [
    {
     "data": {
      "text/html": [
       "<style  type=\"text/css\" >\n",
       "</style>  \n",
       "<table id=\"T_7e17c1b6_28b5_11e8_81ae_80ce62114cc3\" > \n",
       "<thead>    <tr> \n",
       "        <th class=\"blank level0\" ></th> \n",
       "        <th class=\"col_heading level0 col0\" >Purchase Count</th> \n",
       "        <th class=\"col_heading level0 col1\" >Total Purchase Value</th> \n",
       "        <th class=\"col_heading level0 col2\" >Average Purchase Price</th> \n",
       "    </tr>    <tr> \n",
       "        <th class=\"index_name level0\" >SN</th> \n",
       "        <th class=\"blank\" ></th> \n",
       "        <th class=\"blank\" ></th> \n",
       "        <th class=\"blank\" ></th> \n",
       "    </tr></thead> \n",
       "<tbody>    <tr> \n",
       "        <th id=\"T_7e17c1b6_28b5_11e8_81ae_80ce62114cc3level0_row0\" class=\"row_heading level0 row0\" >Undirrala66</th> \n",
       "        <td id=\"T_7e17c1b6_28b5_11e8_81ae_80ce62114cc3row0_col0\" class=\"data row0 col0\" >5</td> \n",
       "        <td id=\"T_7e17c1b6_28b5_11e8_81ae_80ce62114cc3row0_col1\" class=\"data row0 col1\" >$17.06</td> \n",
       "        <td id=\"T_7e17c1b6_28b5_11e8_81ae_80ce62114cc3row0_col2\" class=\"data row0 col2\" >$3.41</td> \n",
       "    </tr>    <tr> \n",
       "        <th id=\"T_7e17c1b6_28b5_11e8_81ae_80ce62114cc3level0_row1\" class=\"row_heading level0 row1\" >Saedue76</th> \n",
       "        <td id=\"T_7e17c1b6_28b5_11e8_81ae_80ce62114cc3row1_col0\" class=\"data row1 col0\" >4</td> \n",
       "        <td id=\"T_7e17c1b6_28b5_11e8_81ae_80ce62114cc3row1_col1\" class=\"data row1 col1\" >$13.56</td> \n",
       "        <td id=\"T_7e17c1b6_28b5_11e8_81ae_80ce62114cc3row1_col2\" class=\"data row1 col2\" >$3.39</td> \n",
       "    </tr>    <tr> \n",
       "        <th id=\"T_7e17c1b6_28b5_11e8_81ae_80ce62114cc3level0_row2\" class=\"row_heading level0 row2\" >Mindimnya67</th> \n",
       "        <td id=\"T_7e17c1b6_28b5_11e8_81ae_80ce62114cc3row2_col0\" class=\"data row2 col0\" >4</td> \n",
       "        <td id=\"T_7e17c1b6_28b5_11e8_81ae_80ce62114cc3row2_col1\" class=\"data row2 col1\" >$12.74</td> \n",
       "        <td id=\"T_7e17c1b6_28b5_11e8_81ae_80ce62114cc3row2_col2\" class=\"data row2 col2\" >$3.18</td> \n",
       "    </tr>    <tr> \n",
       "        <th id=\"T_7e17c1b6_28b5_11e8_81ae_80ce62114cc3level0_row3\" class=\"row_heading level0 row3\" >Haellysu29</th> \n",
       "        <td id=\"T_7e17c1b6_28b5_11e8_81ae_80ce62114cc3row3_col0\" class=\"data row3 col0\" >3</td> \n",
       "        <td id=\"T_7e17c1b6_28b5_11e8_81ae_80ce62114cc3row3_col1\" class=\"data row3 col1\" >$12.73</td> \n",
       "        <td id=\"T_7e17c1b6_28b5_11e8_81ae_80ce62114cc3row3_col2\" class=\"data row3 col2\" >$4.24</td> \n",
       "    </tr>    <tr> \n",
       "        <th id=\"T_7e17c1b6_28b5_11e8_81ae_80ce62114cc3level0_row4\" class=\"row_heading level0 row4\" >Eoda93</th> \n",
       "        <td id=\"T_7e17c1b6_28b5_11e8_81ae_80ce62114cc3row4_col0\" class=\"data row4 col0\" >3</td> \n",
       "        <td id=\"T_7e17c1b6_28b5_11e8_81ae_80ce62114cc3row4_col1\" class=\"data row4 col1\" >$11.58</td> \n",
       "        <td id=\"T_7e17c1b6_28b5_11e8_81ae_80ce62114cc3row4_col2\" class=\"data row4 col2\" >$3.86</td> \n",
       "    </tr></tbody> \n",
       "</table> "
      ],
      "text/plain": [
       "<pandas.io.formats.style.Styler at 0x26c96e3f5c0>"
      ]
     },
     "execution_count": 9,
     "metadata": {},
     "output_type": "execute_result"
    }
   ],
   "source": [
    "#Group by screen name calculate \"Purchase Count\" per player\n",
    "purch_count_top5_df = pd.DataFrame(purchase_data.groupby(\"SN\")[\"Price\"].count())\n",
    "#Group by screen name calculate \"Total Purchase Value\" per player\n",
    "purch_total_top5_df = pd.DataFrame(purchase_data.groupby(\"SN\")[\"Price\"].sum())\n",
    "#Merge above DataFrames\n",
    "top_spenders_df = pd.merge(purch_count_top5_df, purch_total_top5_df, left_index=True, right_index=True)\n",
    "#Group by screen name, calculate \"Average Purchase Price\" per player, add to current DataFrame\n",
    "top_spenders_df[\"Average Purchase Price\"] = purchase_data.groupby(\"SN\")[\"Price\"].mean()\n",
    "#Rename columns\n",
    "top_spenders_df.rename(columns={\"Price_x\":\"Purchase Count\",\"Price_y\":\"Total Purchase Value\"}, inplace=True)\n",
    "#Sort \"Top Sellers\" DataFrame by Total Purchase Value (descending) & display top 5 spenders\n",
    "top_spenders_df = top_spenders_df.sort_values(by=[\"Total Purchase Value\"], ascending=False).head()\n",
    "#Format Top Spenders DataFrame\n",
    "top_spenders_df.style.format({\"Total Purchase Value\":\"${:,.2f}\",\"Average Purchase Price\":\"${:.2f}\"})"
   ]
  },
  {
   "cell_type": "markdown",
   "metadata": {},
   "source": [
    "### Most Popular Items"
   ]
  },
  {
   "cell_type": "code",
   "execution_count": 10,
   "metadata": {},
   "outputs": [
    {
     "data": {
      "text/html": [
       "<style  type=\"text/css\" >\n",
       "</style>  \n",
       "<table id=\"T_7e2d5658_28b5_11e8_a7a7_80ce62114cc3\" > \n",
       "<thead>    <tr> \n",
       "        <th class=\"blank\" ></th> \n",
       "        <th class=\"blank level0\" ></th> \n",
       "        <th class=\"col_heading level0 col0\" >Purchase Count</th> \n",
       "        <th class=\"col_heading level0 col1\" >Item Price</th> \n",
       "        <th class=\"col_heading level0 col2\" >Total Purchase Value</th> \n",
       "    </tr>    <tr> \n",
       "        <th class=\"index_name level0\" >Item ID</th> \n",
       "        <th class=\"index_name level1\" >Item Name</th> \n",
       "        <th class=\"blank\" ></th> \n",
       "        <th class=\"blank\" ></th> \n",
       "        <th class=\"blank\" ></th> \n",
       "    </tr></thead> \n",
       "<tbody>    <tr> \n",
       "        <th id=\"T_7e2d5658_28b5_11e8_a7a7_80ce62114cc3level0_row0\" class=\"row_heading level0 row0\" >39</th> \n",
       "        <th id=\"T_7e2d5658_28b5_11e8_a7a7_80ce62114cc3level1_row0\" class=\"row_heading level1 row0\" >Betrayal, Whisper of Grieving Widows</th> \n",
       "        <td id=\"T_7e2d5658_28b5_11e8_a7a7_80ce62114cc3row0_col0\" class=\"data row0 col0\" >11</td> \n",
       "        <td id=\"T_7e2d5658_28b5_11e8_a7a7_80ce62114cc3row0_col1\" class=\"data row0 col1\" >$2.35</td> \n",
       "        <td id=\"T_7e2d5658_28b5_11e8_a7a7_80ce62114cc3row0_col2\" class=\"data row0 col2\" >$25.85</td> \n",
       "    </tr>    <tr> \n",
       "        <th id=\"T_7e2d5658_28b5_11e8_a7a7_80ce62114cc3level0_row1\" class=\"row_heading level0 row1\" >84</th> \n",
       "        <th id=\"T_7e2d5658_28b5_11e8_a7a7_80ce62114cc3level1_row1\" class=\"row_heading level1 row1\" >Arcane Gem</th> \n",
       "        <td id=\"T_7e2d5658_28b5_11e8_a7a7_80ce62114cc3row1_col0\" class=\"data row1 col0\" >11</td> \n",
       "        <td id=\"T_7e2d5658_28b5_11e8_a7a7_80ce62114cc3row1_col1\" class=\"data row1 col1\" >$2.23</td> \n",
       "        <td id=\"T_7e2d5658_28b5_11e8_a7a7_80ce62114cc3row1_col2\" class=\"data row1 col2\" >$24.53</td> \n",
       "    </tr>    <tr> \n",
       "        <th id=\"T_7e2d5658_28b5_11e8_a7a7_80ce62114cc3level0_row2\" class=\"row_heading level0 row2\" >31</th> \n",
       "        <th id=\"T_7e2d5658_28b5_11e8_a7a7_80ce62114cc3level1_row2\" class=\"row_heading level1 row2\" >Trickster</th> \n",
       "        <td id=\"T_7e2d5658_28b5_11e8_a7a7_80ce62114cc3row2_col0\" class=\"data row2 col0\" >9</td> \n",
       "        <td id=\"T_7e2d5658_28b5_11e8_a7a7_80ce62114cc3row2_col1\" class=\"data row2 col1\" >$2.07</td> \n",
       "        <td id=\"T_7e2d5658_28b5_11e8_a7a7_80ce62114cc3row2_col2\" class=\"data row2 col2\" >$18.63</td> \n",
       "    </tr>    <tr> \n",
       "        <th id=\"T_7e2d5658_28b5_11e8_a7a7_80ce62114cc3level0_row3\" class=\"row_heading level0 row3\" >175</th> \n",
       "        <th id=\"T_7e2d5658_28b5_11e8_a7a7_80ce62114cc3level1_row3\" class=\"row_heading level1 row3\" >Woeful Adamantite Claymore</th> \n",
       "        <td id=\"T_7e2d5658_28b5_11e8_a7a7_80ce62114cc3row3_col0\" class=\"data row3 col0\" >9</td> \n",
       "        <td id=\"T_7e2d5658_28b5_11e8_a7a7_80ce62114cc3row3_col1\" class=\"data row3 col1\" >$1.24</td> \n",
       "        <td id=\"T_7e2d5658_28b5_11e8_a7a7_80ce62114cc3row3_col2\" class=\"data row3 col2\" >$11.16</td> \n",
       "    </tr>    <tr> \n",
       "        <th id=\"T_7e2d5658_28b5_11e8_a7a7_80ce62114cc3level0_row4\" class=\"row_heading level0 row4\" >13</th> \n",
       "        <th id=\"T_7e2d5658_28b5_11e8_a7a7_80ce62114cc3level1_row4\" class=\"row_heading level1 row4\" >Serenity</th> \n",
       "        <td id=\"T_7e2d5658_28b5_11e8_a7a7_80ce62114cc3row4_col0\" class=\"data row4 col0\" >9</td> \n",
       "        <td id=\"T_7e2d5658_28b5_11e8_a7a7_80ce62114cc3row4_col1\" class=\"data row4 col1\" >$1.49</td> \n",
       "        <td id=\"T_7e2d5658_28b5_11e8_a7a7_80ce62114cc3row4_col2\" class=\"data row4 col2\" >$13.41</td> \n",
       "    </tr>    <tr> \n",
       "        <th id=\"T_7e2d5658_28b5_11e8_a7a7_80ce62114cc3level0_row5\" class=\"row_heading level0 row5\" >34</th> \n",
       "        <th id=\"T_7e2d5658_28b5_11e8_a7a7_80ce62114cc3level1_row5\" class=\"row_heading level1 row5\" >Retribution Axe</th> \n",
       "        <td id=\"T_7e2d5658_28b5_11e8_a7a7_80ce62114cc3row5_col0\" class=\"data row5 col0\" >9</td> \n",
       "        <td id=\"T_7e2d5658_28b5_11e8_a7a7_80ce62114cc3row5_col1\" class=\"data row5 col1\" >$4.14</td> \n",
       "        <td id=\"T_7e2d5658_28b5_11e8_a7a7_80ce62114cc3row5_col2\" class=\"data row5 col2\" >$37.26</td> \n",
       "    </tr></tbody> \n",
       "</table> "
      ],
      "text/plain": [
       "<pandas.io.formats.style.Styler at 0x26c97839ac8>"
      ]
     },
     "execution_count": 10,
     "metadata": {},
     "output_type": "execute_result"
    }
   ],
   "source": [
    "#Group by Item ID & calculate \"Purchase Count\" per player\n",
    "top5_items_df = pd.DataFrame(purchase_data.groupby(\"Item ID\")[\"Item ID\"].count())\n",
    "#Sort Item ID by \"Purchase Count\"\n",
    "top5_items_df.sort_values(by=[\"Item ID\"], ascending=False, inplace=True)\n",
    "#Keep first 6 rows since there is a tie for 5th\n",
    "top5_items_df = top5_items_df.iloc[0:6][:]\n",
    "#Group by Item ID & calculate \"Total Purchase Value\" per player\n",
    "purch_total_top5_items_df = pd.DataFrame(purchase_data.groupby(\"Item ID\")[\"Price\"].sum())\n",
    "#Merge above DataFrames\n",
    "most_popular_items_df = pd.merge(top5_items_df,purch_total_top5_items_df, left_index=True, right_index=True)\n",
    "#Clean Item ID values\n",
    "no_dubs_item = purchase_data.drop_duplicates([\"Item ID\"], keep=\"last\")\n",
    "#Merge clean Item ID with current DataFrame\n",
    "most_popular_items_df = pd.merge(most_popular_items_df, no_dubs_item, left_index=True, right_on=[\"Item ID\"])\n",
    "#Keep wanted columns\n",
    "most_popular_items_df = most_popular_items_df[[\"Item ID\",\"Item Name\",\"Item ID_x\",\"Price_y\",\"Price_x\"]]\n",
    "#Set Item ID & Item Name as indices\n",
    "most_popular_items_df.set_index([\"Item ID\", \"Item Name\"], inplace=True)\n",
    "#Rename columns\n",
    "most_popular_items_df.rename(columns={\"Item ID_x\":\"Purchase Count\",\"Price_y\":\"Item Price\",\"Price_x\":\"Total Purchase Value\"}, inplace=True)\n",
    "#Format Most Popular Items DataFrame\n",
    "most_popular_items_df.style.format({\"Total Purchase Value\":\"${:,.2f}\",\"Item Price\":\"${:.2f}\"})"
   ]
  },
  {
   "cell_type": "markdown",
   "metadata": {},
   "source": [
    "### Most Profitable Items"
   ]
  },
  {
   "cell_type": "code",
   "execution_count": 11,
   "metadata": {},
   "outputs": [
    {
     "data": {
      "text/html": [
       "<style  type=\"text/css\" >\n",
       "</style>  \n",
       "<table id=\"T_7e441352_28b5_11e8_8c45_80ce62114cc3\" > \n",
       "<thead>    <tr> \n",
       "        <th class=\"blank\" ></th> \n",
       "        <th class=\"blank level0\" ></th> \n",
       "        <th class=\"col_heading level0 col0\" >Purchase Count</th> \n",
       "        <th class=\"col_heading level0 col1\" >Item Price</th> \n",
       "        <th class=\"col_heading level0 col2\" >Total Purchase Value</th> \n",
       "    </tr>    <tr> \n",
       "        <th class=\"index_name level0\" >Item ID</th> \n",
       "        <th class=\"index_name level1\" >Item Name</th> \n",
       "        <th class=\"blank\" ></th> \n",
       "        <th class=\"blank\" ></th> \n",
       "        <th class=\"blank\" ></th> \n",
       "    </tr></thead> \n",
       "<tbody>    <tr> \n",
       "        <th id=\"T_7e441352_28b5_11e8_8c45_80ce62114cc3level0_row0\" class=\"row_heading level0 row0\" >34</th> \n",
       "        <th id=\"T_7e441352_28b5_11e8_8c45_80ce62114cc3level1_row0\" class=\"row_heading level1 row0\" >Retribution Axe</th> \n",
       "        <td id=\"T_7e441352_28b5_11e8_8c45_80ce62114cc3row0_col0\" class=\"data row0 col0\" >9</td> \n",
       "        <td id=\"T_7e441352_28b5_11e8_8c45_80ce62114cc3row0_col1\" class=\"data row0 col1\" >$4.14</td> \n",
       "        <td id=\"T_7e441352_28b5_11e8_8c45_80ce62114cc3row0_col2\" class=\"data row0 col2\" >$37.26</td> \n",
       "    </tr>    <tr> \n",
       "        <th id=\"T_7e441352_28b5_11e8_8c45_80ce62114cc3level0_row1\" class=\"row_heading level0 row1\" >115</th> \n",
       "        <th id=\"T_7e441352_28b5_11e8_8c45_80ce62114cc3level1_row1\" class=\"row_heading level1 row1\" >Spectral Diamond Doomblade</th> \n",
       "        <td id=\"T_7e441352_28b5_11e8_8c45_80ce62114cc3row1_col0\" class=\"data row1 col0\" >7</td> \n",
       "        <td id=\"T_7e441352_28b5_11e8_8c45_80ce62114cc3row1_col1\" class=\"data row1 col1\" >$4.25</td> \n",
       "        <td id=\"T_7e441352_28b5_11e8_8c45_80ce62114cc3row1_col2\" class=\"data row1 col2\" >$29.75</td> \n",
       "    </tr>    <tr> \n",
       "        <th id=\"T_7e441352_28b5_11e8_8c45_80ce62114cc3level0_row2\" class=\"row_heading level0 row2\" >32</th> \n",
       "        <th id=\"T_7e441352_28b5_11e8_8c45_80ce62114cc3level1_row2\" class=\"row_heading level1 row2\" >Orenmir</th> \n",
       "        <td id=\"T_7e441352_28b5_11e8_8c45_80ce62114cc3row2_col0\" class=\"data row2 col0\" >6</td> \n",
       "        <td id=\"T_7e441352_28b5_11e8_8c45_80ce62114cc3row2_col1\" class=\"data row2 col1\" >$4.95</td> \n",
       "        <td id=\"T_7e441352_28b5_11e8_8c45_80ce62114cc3row2_col2\" class=\"data row2 col2\" >$29.70</td> \n",
       "    </tr>    <tr> \n",
       "        <th id=\"T_7e441352_28b5_11e8_8c45_80ce62114cc3level0_row3\" class=\"row_heading level0 row3\" >103</th> \n",
       "        <th id=\"T_7e441352_28b5_11e8_8c45_80ce62114cc3level1_row3\" class=\"row_heading level1 row3\" >Singed Scalpel</th> \n",
       "        <td id=\"T_7e441352_28b5_11e8_8c45_80ce62114cc3row3_col0\" class=\"data row3 col0\" >6</td> \n",
       "        <td id=\"T_7e441352_28b5_11e8_8c45_80ce62114cc3row3_col1\" class=\"data row3 col1\" >$4.87</td> \n",
       "        <td id=\"T_7e441352_28b5_11e8_8c45_80ce62114cc3row3_col2\" class=\"data row3 col2\" >$29.22</td> \n",
       "    </tr>    <tr> \n",
       "        <th id=\"T_7e441352_28b5_11e8_8c45_80ce62114cc3level0_row4\" class=\"row_heading level0 row4\" >107</th> \n",
       "        <th id=\"T_7e441352_28b5_11e8_8c45_80ce62114cc3level1_row4\" class=\"row_heading level1 row4\" >Splitter, Foe Of Subtlety</th> \n",
       "        <td id=\"T_7e441352_28b5_11e8_8c45_80ce62114cc3row4_col0\" class=\"data row4 col0\" >8</td> \n",
       "        <td id=\"T_7e441352_28b5_11e8_8c45_80ce62114cc3row4_col1\" class=\"data row4 col1\" >$3.61</td> \n",
       "        <td id=\"T_7e441352_28b5_11e8_8c45_80ce62114cc3row4_col2\" class=\"data row4 col2\" >$28.88</td> \n",
       "    </tr></tbody> \n",
       "</table> "
      ],
      "text/plain": [
       "<pandas.io.formats.style.Styler at 0x26c9771ed68>"
      ]
     },
     "execution_count": 11,
     "metadata": {},
     "output_type": "execute_result"
    }
   ],
   "source": [
    "#Group by Item ID & calculate \"Purchase Count\" per player\n",
    "top5_items_df = pd.DataFrame(purchase_data.groupby(\"Item ID\")[\"Item ID\"].count())\n",
    "#Group by Item ID & calculate \"Total Purchase Value\" per player\n",
    "purch_total_top5_items_df = pd.DataFrame(purchase_data.groupby(\"Item ID\")[\"Price\"].sum())\n",
    "#Merge above DataFrames\n",
    "most_popular_items_df = pd.merge(top5_items_df,purch_total_top5_items_df, left_index=True, right_index=True)\n",
    "#Clean Item ID values\n",
    "no_dubs_item = purchase_data.drop_duplicates([\"Item ID\"], keep=\"last\")\n",
    "#Merge clean Item ID with current DataFrame\n",
    "most_popular_items_df = pd.merge(most_popular_items_df, no_dubs_item, left_index=True, right_on=[\"Item ID\"])\n",
    "#Keep wanted columns\n",
    "most_popular_items_df = most_popular_items_df[[\"Item ID\",\"Item Name\",\"Item ID_x\",\"Price_y\",\"Price_x\"]]\n",
    "#Set Item ID & Item Name as indices\n",
    "most_popular_items_df.set_index([\"Item ID\", \"Item Name\"], inplace=True)\n",
    "#Rename columns\n",
    "most_popular_items_df.rename(columns={\"Item ID_x\":\"Purchase Count\",\"Price_y\":\"Item Price\",\"Price_x\":\"Total Purchase Value\"}, inplace=True)\n",
    "#Sort by Total Purchase Value for most profitable (descending) & display top 5 most profitable items \n",
    "most_popular_items_df = most_popular_items_df.sort_values(by=[\"Total Purchase Value\"], ascending=False).head(5)\n",
    "#Format Most Popular Items DataFrame\n",
    "most_popular_items_df.style.format({\"Total Purchase Value\":\"${:,.2f}\",\"Item Price\":\"${:.2f}\"})"
   ]
  }
 ],
 "metadata": {
  "kernelspec": {
   "display_name": "Python 3",
   "language": "python",
   "name": "python3"
  },
  "language_info": {
   "codemirror_mode": {
    "name": "ipython",
    "version": 3
   },
   "file_extension": ".py",
   "mimetype": "text/x-python",
   "name": "python",
   "nbconvert_exporter": "python",
   "pygments_lexer": "ipython3",
   "version": "3.6.4"
  }
 },
 "nbformat": 4,
 "nbformat_minor": 2
}
